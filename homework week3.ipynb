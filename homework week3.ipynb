{
 "cells": [
  {
   "cell_type": "markdown",
   "id": "157265e5",
   "metadata": {},
   "source": [
    "# 1-law is voltage divider from circut theory \n",
    "*this method is used if there are two series resistances, and you want to measure the voltage at one of them, you can measure by multiplying the voltage source by the resistance that you want  to measure the voltage at it  divided by the sum of the two resistances"
   ]
  },
  {
   "cell_type": "code",
   "execution_count": 4,
   "id": "6d534fc7",
   "metadata": {},
   "outputs": [
    {
     "name": "stdout",
     "output_type": "stream",
     "text": [
      "enter the value of the voltage source=80\n",
      "enter the value of the first resistance=89\n",
      "enter the value of the second resistance=67\n",
      "Vr1= 45.64102564102564\n"
     ]
    }
   ],
   "source": [
    "vc=int(input(\"enter the value of the voltage source=\"))\n",
    "r1=int(input(\"enter the value of the first resistance=\"))\n",
    "r2=int((input(\"enter the value of the second resistance=\")))\n",
    "Vr1=((vc*r1)/(r1+r2))# here i want to measure the voltage at r1\n",
    "print('Vr1=',Vr1)"
   ]
  },
  {
   "cell_type": "markdown",
   "id": "abd15d19",
   "metadata": {},
   "source": [
    "# 2-law is Standard Deviation from statistics and probability\n",
    "* this law measures the Standard Deviation of the data or the inputs that entered"
   ]
  },
  {
   "cell_type": "code",
   "execution_count": 7,
   "id": "d77d3c55",
   "metadata": {},
   "outputs": [
    {
     "name": "stdout",
     "output_type": "stream",
     "text": [
      "enter the first  number=1\n",
      "enter the second number=3\n",
      "enter the third number=14\n",
      " the Standard Deviation= 7.0\n"
     ]
    }
   ],
   "source": [
    "x1=int(input(\"enter the first  number=\"))\n",
    "x2=int(input(\"enter the second number=\"))\n",
    "x3=int(input(\"enter the third number=\"))\n",
    "p=x1+x2+x3\n",
    "n=3 # number of the inputs\n",
    "av=(p/n)\n",
    "k=((x1-av)**2+(x2-av)**2+(x3-av)**2)\n",
    "s=((k)/(n-1))**0.5\n",
    "print(\" the Standard Deviation=\",s)"
   ]
  },
  {
   "cell_type": "markdown",
   "id": "100f7f7b",
   "metadata": {},
   "source": [
    "# 3_law is Volume of cylinder\n",
    "* is used to measure the volume of cylinder by multiplying pi by the radius of cylinder base by height of the cylinder"
   ]
  },
  {
   "cell_type": "code",
   "execution_count": 10,
   "id": "2cfb9055",
   "metadata": {},
   "outputs": [
    {
     "name": "stdout",
     "output_type": "stream",
     "text": [
      "enter the the radius =3.2\n",
      "enter the hight =8.6\n",
      "the volume of cylinder is = 276.52096\n"
     ]
    }
   ],
   "source": [
    "r=float(input('enter the the radius ='))\n",
    "h=float(input('enter the hight ='))\n",
    "v=3.14*r**2*h\n",
    "print('the volume of cylinder is =',v)"
   ]
  },
  {
   "cell_type": "code",
   "execution_count": null,
   "id": "18be2f2e",
   "metadata": {},
   "outputs": [],
   "source": []
  }
 ],
 "metadata": {
  "kernelspec": {
   "display_name": "Python 3 (ipykernel)",
   "language": "python",
   "name": "python3"
  },
  "language_info": {
   "codemirror_mode": {
    "name": "ipython",
    "version": 3
   },
   "file_extension": ".py",
   "mimetype": "text/x-python",
   "name": "python",
   "nbconvert_exporter": "python",
   "pygments_lexer": "ipython3",
   "version": "3.9.12"
  }
 },
 "nbformat": 4,
 "nbformat_minor": 5
}
